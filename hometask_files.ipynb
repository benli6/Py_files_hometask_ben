{
 "cells": [
  {
   "cell_type": "code",
   "execution_count": 1,
   "metadata": {},
   "outputs": [
    {
     "name": "stdout",
     "output_type": "stream",
     "text": [
      "{'Омлет': [{'ingredient': 'Яйцо', 'quantity': 2, 'measure': 'шт'}, {'ingredient': 'Молоко', 'quantity': 100, 'measure': 'мл'}, {'ingredient': 'Помидор', 'quantity': 2, 'measure': 'шт'}], 'Утка по-пекински': [{'ingredient': 'Утка', 'quantity': 1, 'measure': 'шт'}, {'ingredient': 'Вода', 'quantity': 2, 'measure': 'л'}, {'ingredient': 'Мед', 'quantity': 3, 'measure': 'ст.л'}, {'ingredient': 'Соевый соус', 'quantity': 60, 'measure': 'мл'}], 'Запеченный картофель': [{'ingredient': 'Картофель', 'quantity': 1, 'measure': 'кг'}, {'ingredient': 'Чеснок', 'quantity': 3, 'measure': 'зубч'}, {'ingredient': 'Сыр гауда', 'quantity': 100, 'measure': 'г'}], 'Фахитос': [{'ingredient': 'Говядина', 'quantity': 500, 'measure': 'г'}, {'ingredient': 'Перец сладкий', 'quantity': 1, 'measure': 'шт'}, {'ingredient': 'Лаваш', 'quantity': 2, 'measure': 'шт'}, {'ingredient': 'Винный уксус', 'quantity': 1, 'measure': 'ст.л'}, {'ingredient': 'Помидор', 'quantity': 2, 'measure': 'шт'}]}\n"
     ]
    }
   ],
   "source": [
    "# Task_1\n",
    "cook_book = {}\n",
    "\n",
    "with open('recipes.txt', encoding = 'utf-8') as file:\n",
    "    for line in file:\n",
    "        dish = line.strip()\n",
    "        cook_book[dish] = []\n",
    "        ingredients_count = int(file.readline())\n",
    "        for i in range(ingredients_count):\n",
    "            ingredient, quantity, measure = file.readline().split(' | ')\n",
    "            cook_book[dish].append({'ingredient': ingredient, 'quantity': int(quantity), 'measure': measure.strip()})\n",
    "        file.readline()\n",
    "\n",
    "print(cook_book)"
   ]
  },
  {
   "cell_type": "code",
   "execution_count": 2,
   "metadata": {},
   "outputs": [
    {
     "name": "stdout",
     "output_type": "stream",
     "text": [
      "Блюд Паста, Лазанья нет в поваренной книге\n",
      "А вот и наш список ингредиентов: {'Яйцо': {'measure': 'шт', 'quantity': 8}, 'Молоко': {'measure': 'мл', 'quantity': 400}, 'Помидор': {'measure': 'шт', 'quantity': 16}, 'Говядина': {'measure': 'г', 'quantity': 2000}, 'Перец сладкий': {'measure': 'шт', 'quantity': 4}, 'Лаваш': {'measure': 'шт', 'quantity': 8}, 'Винный уксус': {'measure': 'ст.л', 'quantity': 4}}\n"
     ]
    }
   ],
   "source": [
    "# Task_2\n",
    "def get_shop_list_by_dishes(dishes, person_count):\n",
    "    shop_list = {}\n",
    "    not_in_cook_book = []\n",
    "    for dish in dishes:\n",
    "        if dish not in cook_book.keys():\n",
    "            not_in_cook_book.append(dish)\n",
    "        else:\n",
    "            for ingredient in cook_book[dish]:\n",
    "                shop_list.setdefault(ingredient['ingredient'], {'measure': ingredient['measure']})\n",
    "                shop_list[ingredient['ingredient']]['quantity'] = shop_list[ingredient['ingredient']].get('quantity', 0) + ingredient['quantity'] * person_count\n",
    "    if len(not_in_cook_book) > 0:\n",
    "        print(f'Блюд {\", \".join(not_in_cook_book)} нет в поваренной книге')\n",
    "    if len(shop_list) > 0:\n",
    "        print(f'А вот и наш список ингредиентов: {shop_list}')\n",
    "\n",
    "get_shop_list_by_dishes(['Омлет', 'Фахитос', 'Паста', 'Лазанья'], 4)\n"
   ]
  },
  {
   "cell_type": "code",
   "execution_count": 1,
   "metadata": {},
   "outputs": [],
   "source": [
    "# Task_3\n",
    "files_content = []\n",
    "\n",
    "with open('sorted/1.txt', encoding = 'utf-8') as file_1:\n",
    "    content_1 = [line.strip() for line in file_1.readlines()]\n",
    "    content_1.insert(0, '1.txt')\n",
    "    files_content.append(content_1)\n",
    "\n",
    "with open('sorted/2.txt', encoding = 'utf-8') as file_2:\n",
    "    content_2 = [line.strip() for line in file_2.readlines()]\n",
    "    content_2.insert(0, '2.txt')\n",
    "    files_content.append(content_2)\n",
    "\n",
    "with open('sorted/3.txt', encoding = 'utf-8') as file_3:\n",
    "    content_3 = [line.strip() for line in file_3.readlines()]\n",
    "    content_3.insert(0, '3.txt')\n",
    "    files_content.append(content_3)\n",
    "\n",
    "files_content.sort(key = lambda x: len(x))\n",
    "\n",
    "with open('files_content.txt', 'a') as file:\n",
    "    for text in files_content:\n",
    "        for i, line in enumerate(text):\n",
    "            if i == 0:\n",
    "                file.write(f'{line}\\n{len(text)-1}\\n')\n",
    "            else:\n",
    "                file.write(f'{line}\\n')\n",
    "  "
   ]
  }
 ],
 "metadata": {
  "kernelspec": {
   "display_name": "Python 3.10.1 64-bit",
   "language": "python",
   "name": "python3"
  },
  "language_info": {
   "codemirror_mode": {
    "name": "ipython",
    "version": 3
   },
   "file_extension": ".py",
   "mimetype": "text/x-python",
   "name": "python",
   "nbconvert_exporter": "python",
   "pygments_lexer": "ipython3",
   "version": "3.10.1"
  },
  "orig_nbformat": 4,
  "vscode": {
   "interpreter": {
    "hash": "e192c477015e0c8e4427e2a21fcada2aaf43102079abc726728a52ed32b2764a"
   }
  }
 },
 "nbformat": 4,
 "nbformat_minor": 2
}
